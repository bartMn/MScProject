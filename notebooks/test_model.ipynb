{
 "cells": [
  {
   "cell_type": "code",
   "execution_count": null,
   "metadata": {},
   "outputs": [],
   "source": [
    "import os\n",
    "import sys\n",
    "from itertools import product\n",
    "\n",
    "module_path = os.path.abspath(os.path.join(f\"..{os.sep}src\"))\n",
    "#module_path = os.path.join(module_path, f\"..\")\n",
    "if module_path not in sys.path:\n",
    "    sys.path.append(module_path)\n",
    "from data.data_read import singleSampleDataset, test_single_samples\n",
    "from ml.simple_model import ModelClass, twoCamsModelClass, multiModalClass#, fiveDepthCamsModel, depthAndAllFrankaDataModel"
   ]
  },
  {
   "cell_type": "code",
   "execution_count": 2,
   "metadata": {},
   "outputs": [
    {
     "name": "stderr",
     "output_type": "stream",
     "text": [
      " 44%|████▍     | 29/66 [00:05<00:04,  7.51it/s]"
     ]
    }
   ],
   "source": [
    "results_dir = os.path.abspath(os.path.join(f\"..{os.sep}results\"))\n",
    "\n",
    "print(\"training model 0...\")\n",
    "cam0_rgb_model = ModelClass(batch_size= 64, epochs_num = 15, save_path= os.path.join(results_dir, \"cam0_rgb_model\"))\n",
    "cam0_rgb_model.init_model()\n",
    "cam0_rgb_model.train_model()\n",
    "print(\"training model0 finished\")\n",
    "\n",
    "\n",
    "print(\"training model 1...\")\n",
    "twoCamsModel = twoCamsModelClass(batch_size= 64, epochs_num = 15, save_path= os.path.join(results_dir, \"twoCamsModel\"))\n",
    "twoCamsModel.init_model()\n",
    "twoCamsModel.train_model()\n",
    "print(\"training model 1 finished\")\n",
    "\n",
    "\n",
    "input_data_keys_dict = {\"fiveDepthCamsModel\": [\"cam0_depth\", \"cam1_depth\", \"cam2_depth\", \"cam3_depth\", \"cam4_depth\", \"franka_actions\", \"franka_forces\", \"franka_state\"],\n",
    "                        \"rgb2\": [\"cam1_rgb\", \"cam2_rgb\", \"franka_actions\", \"franka_forces\", \"franka_state\"],\n",
    "                        \"depth2\": [\"cam1_depth\", \"cam2_depth\", \"franka_actions\", \"franka_forces\", \"franka_state\"],\n",
    "                        \"frankaDataOnly\": [\"franka_actions\", \"franka_forces\", \"franka_state\"],\n",
    "                        \"rgb2depth2\": [\"cam1_rgb\", \"cam2_rgb\", \"cam1_depth\", \"cam2_depth\", \"franka_actions\", \"franka_forces\", \"franka_state\"],\n",
    "                        \"rgb2flow2\": [\"cam1_rgb\", \"cam2_rgb\", \"cam1_flow\", \"cam2_flow\", \"franka_actions\", \"franka_forces\", \"franka_state\"],\n",
    "                        \"depth2flow2\": [\"cam1_depth\", \"cam2_depth\", \"cam1_flow\", \"cam2_flow\", \"franka_actions\", \"franka_forces\", \"franka_state\"],\n",
    "                        \"rgb2depth2flow2\": [\"cam1_rgb\", \"cam2_rgb\", \"cam1_depth\", \"cam2_depth\", \"cam1_flow\", \"cam2_flow\", \"franka_actions\", \"franka_forces\", \"franka_state\"],\n",
    "                        \n",
    "                        \"noFrankaDatafiveDepthCamsModel\": [\"cam0_depth\", \"cam1_depth\", \"cam2_depth\", \"cam3_depth\", \"cam4_depth\"],\n",
    "                        \"noFrankaDatargb2\": [\"cam1_rgb\", \"cam2_rgb\"],\n",
    "                        \"noFrankaDatadepth2\": [\"cam1_depth\", \"cam2_depth\"],\n",
    "                        \"noFrankaDatargb2depth2\": [\"cam1_rgb\", \"cam2_rgb\", \"cam1_depth\", \"cam2_depth\"],\n",
    "                        \"noFrankaDatargb2flow2\": [\"cam1_rgb\", \"cam2_rgb\", \"cam1_flow\", \"cam2_flow\"],\n",
    "                        \"noFrankaDatadepth2flow2\": [\"cam1_depth\", \"cam2_depth\", \"cam1_flow\", \"cam2_flow\"],\n",
    "                        \"noFrankaDatargb2depth2flow2\": [\"cam1_rgb\", \"cam2_rgb\", \"cam1_depth\", \"cam2_depth\", \"cam1_flow\", \"cam2_flow\"]\n",
    "                        }\n",
    "\n",
    "for model_name in input_data_keys_dict:\n",
    "    fiveDepthCamsModel = multiModalClass(batch_size= 64, epochs_num = 15, save_path= os.path.join(results_dir, model_name), input_data_keys = input_data_keys_dict[model_name])\n",
    "    fiveDepthCamsModel.init_model(learning_rate=0.001, input_data_keys = input_data_keys_dict[model_name])\n",
    "    \n",
    "    print(f\"training model {model_name}...\")\n",
    "    fiveDepthCamsModel.train_model()\n",
    "    print(f\"training {model_name} finished\")\n"
   ]
  },
  {
   "cell_type": "code",
   "execution_count": null,
   "metadata": {},
   "outputs": [],
   "source": []
  }
 ],
 "metadata": {
  "kernelspec": {
   "display_name": "isaac_env2_ub",
   "language": "python",
   "name": "python3"
  },
  "language_info": {
   "codemirror_mode": {
    "name": "ipython",
    "version": 3
   },
   "file_extension": ".py",
   "mimetype": "text/x-python",
   "name": "python",
   "nbconvert_exporter": "python",
   "pygments_lexer": "ipython3",
   "version": "3.8.0"
  }
 },
 "nbformat": 4,
 "nbformat_minor": 2
}
