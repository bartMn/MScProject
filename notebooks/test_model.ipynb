{
 "cells": [
  {
   "cell_type": "code",
   "execution_count": null,
   "metadata": {},
   "outputs": [],
   "source": [
    "import os\n",
    "import sys\n",
    "from itertools import product\n",
    "\n",
    "module_path = os.path.abspath(os.path.join(f\"..{os.sep}src\"))\n",
    "#module_path = os.path.join(module_path, f\"..\")\n",
    "if module_path not in sys.path:\n",
    "    sys.path.append(module_path)\n",
    "from data.data_read import singleSampleDataset, test_single_samples\n",
    "from ml.simple_model import ModelClass, twoCamsModel, multiModalClass#, fiveDepthCamsModel, depthAndAllFrankaDataModel"
   ]
  },
  {
   "cell_type": "code",
   "execution_count": null,
   "metadata": {},
   "outputs": [],
   "source": [
    "results_dir = os.path.abspath(os.path.join(f\"..{os.sep}results\"))\n",
    "\n",
    "#print(\"training model 0...\")\n",
    "#my_model = ModelClass(batch_size= 16, epochs_num = 15, save_path= os.path.join(results_dir, \"model0\"))\n",
    "#my_model.init_model()\n",
    "#my_model.train_model()\n",
    "#print(\"training model0 finished\")\n",
    "#\n",
    "\n",
    "#print(\"training model 1...\")\n",
    "#my_model1 = twoCamsModel(batch_size= 16, epochs_num = 15, save_path= os.path.join(results_dir, \"model1\"))\n",
    "#my_model1.init_model()\n",
    "#my_model1.train_model()\n",
    "#print(\"training model 1 finished\")\n",
    "\n",
    "print(\"training model 2...\")\n",
    "input_data_keys = [\"cam0_depth\", \"cam1_depth\", \"cam2_depth\", \"cam3_depth\", \"cam4_depth\", \"franka_actions\", \"franka_forces\", \"franka_state\"] \n",
    "fiveDepthCamsModel = multiModalClass(batch_size= 16, epochs_num = 15, save_path= os.path.join(results_dir, \"fiveDepthCamsModel\"), input_data_keys = input_data_keys)\n",
    "fiveDepthCamsModel.init_model(learning_rate=0.001, input_data_keys = input_data_keys)\n",
    "fiveDepthCamsModel.train_model()\n",
    "print(\"training fiveDepthCamsModel finished\")\n",
    "#\n",
    "#print(\"training model 3...\")\n",
    "#my_model3 = depthAndAllFrankaDataModel(batch_size= 16, epochs_num = 15, save_path= os.path.join(results_dir, \"model3\"), learning_rate=0.001)\n",
    "#my_model3.train_model()\n",
    "#print(\"training model 3 finished\")"
   ]
  },
  {
   "cell_type": "code",
   "execution_count": null,
   "metadata": {},
   "outputs": [],
   "source": []
  }
 ],
 "metadata": {
  "kernelspec": {
   "display_name": "isaac_env2_ub",
   "language": "python",
   "name": "python3"
  },
  "language_info": {
   "codemirror_mode": {
    "name": "ipython",
    "version": 3
   },
   "file_extension": ".py",
   "mimetype": "text/x-python",
   "name": "python",
   "nbconvert_exporter": "python",
   "pygments_lexer": "ipython3",
   "version": "3.8.0"
  }
 },
 "nbformat": 4,
 "nbformat_minor": 2
}
