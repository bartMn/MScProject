{
 "cells": [
  {
   "cell_type": "code",
   "execution_count": 1,
   "metadata": {},
   "outputs": [],
   "source": [
    "import os\n",
    "import sys\n",
    "from itertools import product\n",
    "\n",
    "module_path = os.path.abspath(os.path.join(f\"..{os.sep}src\"))\n",
    "#module_path = os.path.join(module_path, f\"..\")\n",
    "if module_path not in sys.path:\n",
    "    sys.path.append(module_path)\n",
    "from data.data_read import singleSampleDataset, test_single_samples\n",
    "from ml.simple_model import ModelClass, twoCamsModel, fiveDepthCamsModel"
   ]
  },
  {
   "cell_type": "code",
   "execution_count": 2,
   "metadata": {},
   "outputs": [
    {
     "name": "stdout",
     "output_type": "stream",
     "text": [
      "training model 2...\n",
      "EPOCH 0:\n"
     ]
    },
    {
     "name": "stderr",
     "output_type": "stream",
     "text": [
      " 50%|█████     | 66/131 [00:31<00:38,  1.67it/s]"
     ]
    }
   ],
   "source": [
    "results_dir = os.path.abspath(os.path.join(f\"..{os.sep}results\"))\n",
    "\n",
    "#print(\"training model 0...\")\n",
    "#my_model = ModelClass(epochs_num = 15, save_path= os.path.join(results_dir, \"model0\"))\n",
    "#my_model.train _model()\n",
    "#print(\"training model0 finished\")\n",
    "#\n",
    "#print(\"training model 1...\")\n",
    "#my_model1 = twoCamsModel(epochs_num = 5, save_path= os.path.join(results_dir, \"model1\"))\n",
    "#my_model1.train_model()\n",
    "#print(\"training model 1 finished\")\n",
    "#\n",
    "print(\"training model 2...\")\n",
    "my_model2 = fiveDepthCamsModel(epochs_num = 5, save_path= os.path.join(results_dir, \"model2\"))\n",
    "my_model2.train_model()\n",
    "print(\"training model 2 finished\")"
   ]
  },
  {
   "cell_type": "code",
   "execution_count": null,
   "metadata": {},
   "outputs": [],
   "source": []
  }
 ],
 "metadata": {
  "kernelspec": {
   "display_name": "isaac_env2_ub",
   "language": "python",
   "name": "python3"
  },
  "language_info": {
   "codemirror_mode": {
    "name": "ipython",
    "version": 3
   },
   "file_extension": ".py",
   "mimetype": "text/x-python",
   "name": "python",
   "nbconvert_exporter": "python",
   "pygments_lexer": "ipython3",
   "version": "3.8.0"
  }
 },
 "nbformat": 4,
 "nbformat_minor": 2
}
